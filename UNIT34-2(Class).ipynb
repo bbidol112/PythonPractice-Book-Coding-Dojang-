{
 "cells": [
  {
   "cell_type": "code",
   "execution_count": 1,
   "metadata": {},
   "outputs": [],
   "source": [
    "class Person:\n",
    "    pass"
   ]
  },
  {
   "cell_type": "code",
   "execution_count": 2,
   "metadata": {},
   "outputs": [
    {
     "name": "stdout",
     "output_type": "stream",
     "text": [
      "Hello\n"
     ]
    }
   ],
   "source": [
    "class Person:\n",
    "    def greeting(self):\n",
    "        print('Hello')\n",
    "        \n",
    "    def hello(self):\n",
    "        self.greeting()\n",
    "        \n",
    "james = Person()\n",
    "james.hello()"
   ]
  },
  {
   "cell_type": "code",
   "execution_count": 3,
   "metadata": {},
   "outputs": [
    {
     "data": {
      "text/plain": [
       "True"
      ]
     },
     "execution_count": 3,
     "metadata": {},
     "output_type": "execute_result"
    }
   ],
   "source": [
    "james = Person()\n",
    "isinstance(james, Person)"
   ]
  },
  {
   "cell_type": "code",
   "execution_count": 6,
   "metadata": {},
   "outputs": [
    {
     "name": "stdout",
     "output_type": "stream",
     "text": [
      "안녕하세요.\n"
     ]
    }
   ],
   "source": [
    "class Person:\n",
    "    def __init__(self):\n",
    "        self.hello = '안녕하세요.'\n",
    "        \n",
    "    def greeting(self):\n",
    "        print(self.hello)\n",
    "        \n",
    "james = Person()\n",
    "james.greeting()"
   ]
  },
  {
   "cell_type": "code",
   "execution_count": 7,
   "metadata": {},
   "outputs": [
    {
     "name": "stdout",
     "output_type": "stream",
     "text": [
      "안녕하세요 저는 마리아입니다.\n",
      "이름 :  마리아\n",
      "나이 :  20\n",
      "주소 :  서울특별시 서초구 반포동\n"
     ]
    }
   ],
   "source": [
    "class Person:\n",
    "    def __init__(self, name, age, address):\n",
    "        self.hello = '안녕하세요'\n",
    "        self.name = name\n",
    "        self.age = age\n",
    "        self.address = address\n",
    "        \n",
    "    def greeting(self):\n",
    "        print('{0} 저는 {1}입니다.'.format(self.hello, self.name))\n",
    "        \n",
    "maria = Person('마리아', 20, '서울특별시 서초구 반포동')\n",
    "maria.greeting()\n",
    "\n",
    "print('이름 : ', maria.name)\n",
    "print('나이 : ', maria.age)\n",
    "print('주소 : ', maria.address)"
   ]
  },
  {
   "cell_type": "code",
   "execution_count": 10,
   "metadata": {},
   "outputs": [
    {
     "name": "stdout",
     "output_type": "stream",
     "text": [
      "마리아\n",
      "20\n",
      "서울특별시 서초구 반포동\n"
     ]
    }
   ],
   "source": [
    "class Person:\n",
    "    def __init__(self, *args):\n",
    "        self.name = args[0]\n",
    "        self.age = args[1]\n",
    "        self.address = args[2]\n",
    "        \n",
    "maria = Person(*['마리아', 20, '서울특별시 서초구 반포동'])\n",
    "print(maria.name)\n",
    "print(maria.age)\n",
    "print(maria.address)"
   ]
  },
  {
   "cell_type": "code",
   "execution_count": 12,
   "metadata": {},
   "outputs": [
    {
     "name": "stdout",
     "output_type": "stream",
     "text": [
      "이제 7000원 남았네요.\n"
     ]
    }
   ],
   "source": [
    "class Person:\n",
    "    def __init__(self, name, age, address, wallet):\n",
    "        self.name = name\n",
    "        self.age = age\n",
    "        self.address = address\n",
    "        self.__wallet = wallet\n",
    "        \n",
    "    def pay(self, amount):\n",
    "        self.__wallet -= amount\n",
    "        print('이제 {0}원 남았네요.'.format(self.__wallet))\n",
    "        \n",
    "maria = Person('마리아', 20, '서울특별시 서초구 반포동', 10000)\n",
    "maria.pay(3000)"
   ]
  },
  {
   "cell_type": "code",
   "execution_count": 14,
   "metadata": {},
   "outputs": [
    {
     "name": "stdout",
     "output_type": "stream",
     "text": [
      "542.4 210.3 38\n",
      "베기\n"
     ]
    }
   ],
   "source": [
    "class Knight:\n",
    "    def __init__(self, health, mana, armor):\n",
    "        self.health = health\n",
    "        self.mana = mana\n",
    "        self.armor = armor\n",
    "        \n",
    "    def slash(self):\n",
    "        print('베기')\n",
    "\n",
    "x = Knight(health = 542.4, mana = 210.3, armor = 38)\n",
    "\n",
    "print(x.health, x.mana, x.armor)\n",
    "x.slash()"
   ]
  },
  {
   "cell_type": "code",
   "execution_count": null,
   "metadata": {},
   "outputs": [],
   "source": []
  }
 ],
 "metadata": {
  "kernelspec": {
   "display_name": "Python 3",
   "language": "python",
   "name": "python3"
  },
  "language_info": {
   "codemirror_mode": {
    "name": "ipython",
    "version": 3
   },
   "file_extension": ".py",
   "mimetype": "text/x-python",
   "name": "python",
   "nbconvert_exporter": "python",
   "pygments_lexer": "ipython3",
   "version": "3.8.3"
  }
 },
 "nbformat": 4,
 "nbformat_minor": 4
}
